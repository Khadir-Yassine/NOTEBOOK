{
 "cells": [
  {
   "cell_type": "markdown",
   "id": "b242a4f2-be1a-445e-962f-0ed2e643eebe",
   "metadata": {},
   "source": [
    "# Data Science Tools and Ecosystem"
   ]
  },
  {
   "cell_type": "code",
   "execution_count": null,
   "id": "c6ac4cd6-7da6-409e-9aa8-07db73db49ea",
   "metadata": {},
   "outputs": [],
   "source": []
  },
  {
   "cell_type": "markdown",
   "id": "3fbab839-d311-4b23-a38c-3ab3afdd7f36",
   "metadata": {},
   "source": [
    "In this notebook , Data Science Tools and ecosystem are summarized."
   ]
  },
  {
   "cell_type": "markdown",
   "id": "ec0694a5-b3aa-4024-8082-0fe828329e52",
   "metadata": {},
   "source": [
    "EX"
   ]
  },
  {
   "cell_type": "markdown",
   "id": "1f81403e-71c4-4963-a61f-ac49a1d4d958",
   "metadata": {},
   "source": [
    "Some of the popular Languages that Data Scientists use are :\n",
    "1.Python\n",
    "2.R\n",
    "3.SQL"
   ]
  },
  {
   "cell_type": "markdown",
   "id": "d150d62d-e197-46f8-aaee-a99c2586066f",
   "metadata": {},
   "source": [
    "EXERCISE 5"
   ]
  },
  {
   "cell_type": "markdown",
   "id": "010562b2-7716-43a4-b9e2-c0ec941222a9",
   "metadata": {},
   "source": [
    "Some of the commonly used libraries used by Data Scientists include :\n",
    "1.Numpy\n",
    "2.Pandas\n",
    "3.Matplotlib"
   ]
  },
  {
   "cell_type": "markdown",
   "id": "479ce3b4-cd6e-4f1f-868f-d38b60da969a",
   "metadata": {},
   "source": [
    "EXERCISE 6"
   ]
  },
  {
   "cell_type": "markdown",
   "id": "5e4d5006-6188-45d7-a14a-0a61e63fc4cb",
   "metadata": {},
   "source": [
    "|Data Science Tools |\n",
    "|-------------------|\n",
    "|Jupyter Notebook   |\n",
    "|RStudio            |\n",
    "|Apache Zeppelin    |"
   ]
  },
  {
   "cell_type": "markdown",
   "id": "156ec722-fb09-4886-817f-840452a6e810",
   "metadata": {},
   "source": [
    "EXERCISE 7"
   ]
  },
  {
   "cell_type": "markdown",
   "id": "bd9c4879-2413-448b-8f1f-6c2e5febc89a",
   "metadata": {},
   "source": [
    "# Blow are a few example of evaluating arithmetic expressions in Python"
   ]
  },
  {
   "cell_type": "markdown",
   "id": "d04f287e-b23b-4576-9556-99daf249002a",
   "metadata": {},
   "source": [
    "EXERCISE 8 "
   ]
  },
  {
   "cell_type": "code",
   "execution_count": 2,
   "id": "cf5555fc-a74e-41b4-ad9a-99023dbc2d64",
   "metadata": {
    "tags": []
   },
   "outputs": [],
   "source": [
    "#This a simple arithmetic experssion to multiply then add integers"
   ]
  },
  {
   "cell_type": "code",
   "execution_count": 1,
   "id": "1857105f-834c-42dd-a1e1-46a7feb311cb",
   "metadata": {
    "tags": []
   },
   "outputs": [
    {
     "data": {
      "text/plain": [
       "17"
      ]
     },
     "execution_count": 1,
     "metadata": {},
     "output_type": "execute_result"
    }
   ],
   "source": [
    "(3*4)+5"
   ]
  },
  {
   "cell_type": "markdown",
   "id": "bb00540d-36e3-4dc0-8110-6f0776dd5463",
   "metadata": {},
   "source": [
    "EXERCISE 9"
   ]
  },
  {
   "cell_type": "code",
   "execution_count": null,
   "id": "f473495c-08ff-4bb8-9faa-d5a47ba2b0e9",
   "metadata": {},
   "outputs": [],
   "source": [
    "#This will convert 200 minutes to houes by dividing by 60"
   ]
  },
  {
   "cell_type": "raw",
   "id": "c4c45708-f25a-4446-9712-aef8d04069f1",
   "metadata": {
    "tags": []
   },
   "source": [
    "200/60"
   ]
  },
  {
   "cell_type": "markdown",
   "id": "6151bb0a-de5a-4928-a84b-976aa96613ae",
   "metadata": {},
   "source": [
    "EXERCISE 10"
   ]
  },
  {
   "cell_type": "raw",
   "id": "43899fa9-3120-4349-895e-fcbe0dd173c5",
   "metadata": {},
   "source": [
    "**OBJECTIVES**\n",
    "-List popular languages  for data science\n",
    "-list commonly used libraries in data science \n",
    "-provide examples of arithmetic expressions in python \n",
    "-highlight open source tools used in data science "
   ]
  },
  {
   "cell_type": "markdown",
   "id": "c3a0b47c-53ef-4e00-8b22-4ee5107503b0",
   "metadata": {},
   "source": [
    "EXERCISE 11"
   ]
  },
  {
   "cell_type": "markdown",
   "id": "6278d644-ed45-455e-ba59-a97ef5117d29",
   "metadata": {},
   "source": [
    "## Author\n",
    "Yassine Khadir"
   ]
  }
 ],
 "metadata": {
  "kernelspec": {
   "display_name": "Python",
   "language": "python",
   "name": "conda-env-python-py"
  },
  "language_info": {
   "codemirror_mode": {
    "name": "ipython",
    "version": 3
   },
   "file_extension": ".py",
   "mimetype": "text/x-python",
   "name": "python",
   "nbconvert_exporter": "python",
   "pygments_lexer": "ipython3",
   "version": "3.7.12"
  }
 },
 "nbformat": 4,
 "nbformat_minor": 5
}
